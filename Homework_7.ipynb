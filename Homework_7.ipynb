{
 "cells": [
  {
   "cell_type": "markdown",
   "metadata": {
    "id": "YEBNn7WNVVH9"
   },
   "source": [
    "# Homework 7 (30 marks)\n",
    "Create a copy of the notebook to start answering the questions. Name your notebook in the format HW7_lastname_firstname.ipynb to facilitate the grading process.\n",
    "\n",
    "Answer all the questions, test your code to ensure there are no errors and the results are as expected. Once you have answered all the questions, save the final copy, then go to File-> click on Download.ipynb. Once the local copy has been downloaded, submit your file on Blackboard under the corresponding assignment section. Also provide us a link to your notebook during submission.\n",
    "\n",
    "NOTE: Please give the TAs the permission to access your notebooks through the links you have provided during submission.\n",
    "\n",
    "The due date of this homework is 04/23/2021 (Friday).\n",
    "\n",
    "Please ensure you follow all the steps mentioned in the homework.\n",
    "\n",
    "You can submit your solutions any number of times until the deadline.\n",
    "\n",
    "The datasets used in this homework can be found in the google drive link below -\n",
    "\n",
    "https://drive.google.com/drive/folders/1NxCh4X7u7wVo5aHojxjLNs9wC7B7zJhb?usp=sharing\n",
    "\n",
    "Follow the necessary steps to import data to test your code. You can use any method to read your data in the notebook. We will not be grading the methods you use. We will only grade the code from the point where you read the dataset into a pandas dataframe - (pd.read_csv('file_name'))"
   ]
  },
  {
   "cell_type": "markdown",
   "metadata": {
    "id": "XNkmD9GdVx37"
   },
   "source": [
    "Import all the libraries you require in the cell below.\n"
   ]
  },
  {
   "cell_type": "code",
   "execution_count": 1,
   "metadata": {
    "id": "O38dWgFrTt9g"
   },
   "outputs": [],
   "source": [
    "import pandas as pd\n",
    "import numpy as np\n",
    "from sklearn.impute import SimpleImputer\n",
    "from sklearn.preprocessing import MinMaxScaler\n",
    "\n",
    "# Enter your code here\n",
    "from sklearn.model_selection import train_test_split"
   ]
  },
  {
   "cell_type": "markdown",
   "metadata": {
    "id": "HggTkCZoWOSE"
   },
   "source": [
    "## Implement the Ensemble methods learnt in class and compare their accuarcies."
   ]
  },
  {
   "cell_type": "markdown",
   "metadata": {
    "id": "g-eAjVVDV_Nm"
   },
   "source": [
    "The dataset you are going to be using for homework is the **Wisconsin Breast Cancer dataset (cancer.csv)**\n",
    "\n",
    "The dataset contains a total number of 10 features labeled in either benign or malignant classes. The features have 699 instances out of which 16 feature values are missing. The dataset only contains numeric values.\n",
    "\n",
    "Attribute Information:\n",
    "\n",
    "1. Sample code number: id number\n",
    "2. Clump Thickness: 1 - 10\n",
    "3. Uniformity of Cell Size: 1 - 10\n",
    "4. Uniformity of Cell Shape: 1 - 10\n",
    "5. Marginal Adhesion: 1 - 10\n",
    "6. Single Epithelial Cell Size: 1 - 10\n",
    "7. Bare Nuclei: 1 - 10\n",
    "8. Bland Chromatin: 1 - 10\n",
    "9. Normal Nucleoli: 1 - 10\n",
    "10. Mitoses: 1 - 10\n",
    "11. Class: (2 for benign, 4 for malignant) (**target variable**)\n",
    "\n",
    "For more information: https://archive.ics.uci.edu/ml/datasets/breast+cancer+wisconsin+(original)"
   ]
  },
  {
   "cell_type": "markdown",
   "metadata": {
    "id": "g3iLZY-gXhVH"
   },
   "source": [
    "### 1. Read the dataset into variable called '**data**' (1 mark)"
   ]
  },
  {
   "cell_type": "code",
   "execution_count": 2,
   "metadata": {
    "id": "U2II5L3AXn2A"
   },
   "outputs": [],
   "source": [
    "pd.set_option('display.max_columns', 100)\n",
    "# Enter your code here\n",
    "data = pd.read_csv('cancer.csv')"
   ]
  },
  {
   "cell_type": "code",
   "execution_count": 3,
   "metadata": {},
   "outputs": [
    {
     "data": {
      "text/html": [
       "<div>\n",
       "<style scoped>\n",
       "    .dataframe tbody tr th:only-of-type {\n",
       "        vertical-align: middle;\n",
       "    }\n",
       "\n",
       "    .dataframe tbody tr th {\n",
       "        vertical-align: top;\n",
       "    }\n",
       "\n",
       "    .dataframe thead th {\n",
       "        text-align: right;\n",
       "    }\n",
       "</style>\n",
       "<table border=\"1\" class=\"dataframe\">\n",
       "  <thead>\n",
       "    <tr style=\"text-align: right;\">\n",
       "      <th></th>\n",
       "      <th>Sample Code Number</th>\n",
       "      <th>Clump Thickness</th>\n",
       "      <th>Uniformity of Cell Size</th>\n",
       "      <th>Uniformity of Cell Shape</th>\n",
       "      <th>Marginal Adhesion</th>\n",
       "      <th>Single Epithelial Cell Size</th>\n",
       "      <th>Bland Chromatin</th>\n",
       "      <th>Bare Nuclei</th>\n",
       "      <th>Normal Nucleoli</th>\n",
       "      <th>Mitosis</th>\n",
       "      <th>Class</th>\n",
       "    </tr>\n",
       "  </thead>\n",
       "  <tbody>\n",
       "    <tr>\n",
       "      <th>0</th>\n",
       "      <td>1000025</td>\n",
       "      <td>5</td>\n",
       "      <td>1</td>\n",
       "      <td>1</td>\n",
       "      <td>1</td>\n",
       "      <td>2</td>\n",
       "      <td>1</td>\n",
       "      <td>3</td>\n",
       "      <td>1</td>\n",
       "      <td>1</td>\n",
       "      <td>2</td>\n",
       "    </tr>\n",
       "    <tr>\n",
       "      <th>1</th>\n",
       "      <td>1002945</td>\n",
       "      <td>5</td>\n",
       "      <td>4</td>\n",
       "      <td>4</td>\n",
       "      <td>5</td>\n",
       "      <td>7</td>\n",
       "      <td>10</td>\n",
       "      <td>3</td>\n",
       "      <td>2</td>\n",
       "      <td>1</td>\n",
       "      <td>2</td>\n",
       "    </tr>\n",
       "    <tr>\n",
       "      <th>2</th>\n",
       "      <td>1015425</td>\n",
       "      <td>3</td>\n",
       "      <td>1</td>\n",
       "      <td>1</td>\n",
       "      <td>1</td>\n",
       "      <td>2</td>\n",
       "      <td>2</td>\n",
       "      <td>3</td>\n",
       "      <td>1</td>\n",
       "      <td>1</td>\n",
       "      <td>2</td>\n",
       "    </tr>\n",
       "  </tbody>\n",
       "</table>\n",
       "</div>"
      ],
      "text/plain": [
       "   Sample Code Number  Clump Thickness  Uniformity of Cell Size   \\\n",
       "0             1000025                5                         1   \n",
       "1             1002945                5                         4   \n",
       "2             1015425                3                         1   \n",
       "\n",
       "   Uniformity of Cell Shape  Marginal Adhesion  Single Epithelial Cell Size  \\\n",
       "0                         1                  1                            2   \n",
       "1                         4                  5                            7   \n",
       "2                         1                  1                            2   \n",
       "\n",
       "  Bland Chromatin  Bare Nuclei  Normal Nucleoli  Mitosis  Class  \n",
       "0               1            3                1        1      2  \n",
       "1              10            3                2        1      2  \n",
       "2               2            3                1        1      2  "
      ]
     },
     "execution_count": 3,
     "metadata": {},
     "output_type": "execute_result"
    }
   ],
   "source": [
    "data.head(3)"
   ]
  },
  {
   "cell_type": "markdown",
   "metadata": {
    "id": "7DvQpJcMXRd0"
   },
   "source": [
    "### **Preprocessing**: Data needs to be preprocessed before implementing ensemble methods. It is done for you here. \n",
    "### Run the below code first and then answer the questions from 2 - 7."
   ]
  },
  {
   "cell_type": "markdown",
   "metadata": {
    "id": "UDtpJLrCXdj-"
   },
   "source": [
    "#### Deleting unnecessary columns: The column \"Sample code number\" is just an indicator and it's of no use in the modeling. So, let's drop it:\n"
   ]
  },
  {
   "cell_type": "code",
   "execution_count": 4,
   "metadata": {
    "id": "3bbOI9AYTziJ"
   },
   "outputs": [],
   "source": [
    "data.drop(['Sample Code Number'],axis = 1, inplace = True)\n"
   ]
  },
  {
   "cell_type": "markdown",
   "metadata": {
    "id": "uaUqMhEPYqSF"
   },
   "source": [
    "#### Handling missing values : \n",
    "As mentioned earlier, the dataset contains missing values. The column named \"Bare Nuclei\" contains them. The missing values are represneted as \"?\". \n",
    "\n",
    "Replace those \"?\"s with 0's and impute them with Mean Imputation"
   ]
  },
  {
   "cell_type": "code",
   "execution_count": 5,
   "metadata": {
    "id": "cHu_DIDcZs_8"
   },
   "outputs": [
    {
     "data": {
      "text/plain": [
       "0       3\n",
       "1       3\n",
       "2       3\n",
       "3       3\n",
       "4       3\n",
       "       ..\n",
       "694     1\n",
       "695     1\n",
       "696     8\n",
       "697    10\n",
       "698    10\n",
       "Name: Bare Nuclei, Length: 699, dtype: int64"
      ]
     },
     "execution_count": 5,
     "metadata": {},
     "output_type": "execute_result"
    }
   ],
   "source": [
    "data['Bare Nuclei']"
   ]
  },
  {
   "cell_type": "code",
   "execution_count": 6,
   "metadata": {
    "id": "u_5GSsVjU930"
   },
   "outputs": [],
   "source": [
    "data.replace('?',0, inplace=True)"
   ]
  },
  {
   "cell_type": "code",
   "execution_count": 7,
   "metadata": {
    "id": "LV3PVQB0U_mF"
   },
   "outputs": [],
   "source": [
    "# Convert the DataFrame object into NumPy array otherwise you will not be able to impute\n",
    "values = data.values\n",
    "# Now impute it\n",
    "imputer = SimpleImputer(missing_values=np.nan, strategy='mean')\n",
    "imputedData = imputer.fit_transform(values)"
   ]
  },
  {
   "cell_type": "markdown",
   "metadata": {
    "id": "TC9xxX-MaJiJ"
   },
   "source": [
    "#### Normalizing the data:\n",
    "Ranges of the features of the dataset are not the same. This may cause a problem. A small change in a feature might not affect the other. To address this problem, normalize the ranges of the features to a uniform range, in this case, 0 - 1."
   ]
  },
  {
   "cell_type": "code",
   "execution_count": 8,
   "metadata": {
    "id": "VomHojxET85c"
   },
   "outputs": [
    {
     "name": "stdout",
     "output_type": "stream",
     "text": [
      "   Clump Thickness  Uniformity of Cell Size  Uniformity of Cell Shape  \\\n",
      "0         0.444444                 0.000000                  0.000000   \n",
      "1         0.444444                 0.333333                  0.333333   \n",
      "2         0.222222                 0.000000                  0.000000   \n",
      "3         0.555556                 0.777778                  0.777778   \n",
      "4         0.333333                 0.000000                  0.000000   \n",
      "\n",
      "   Marginal Adhesion  Single Epithelial Cell Size  Bland Chromatin  \\\n",
      "0           0.000000                     0.111111              0.1   \n",
      "1           0.444444                     0.666667              1.0   \n",
      "2           0.000000                     0.111111              0.2   \n",
      "3           0.000000                     0.222222              0.4   \n",
      "4           0.222222                     0.111111              0.1   \n",
      "\n",
      "   Bare Nuclei  Normal Nucleoli  Mitosis  Class  \n",
      "0     0.222222         0.000000      0.0    0.0  \n",
      "1     0.222222         0.111111      0.0    0.0  \n",
      "2     0.222222         0.000000      0.0    0.0  \n",
      "3     0.222222         0.666667      0.0    0.0  \n",
      "4     0.222222         0.000000      0.0    0.0  \n"
     ]
    }
   ],
   "source": [
    "scaler = MinMaxScaler(feature_range=(0, 1))\n",
    "normalizedData = scaler.fit_transform(imputedData)\n",
    "cols = ['Clump Thickness', 'Uniformity of Cell Size', 'Uniformity of Cell Shape', 'Marginal Adhesion', 'Single Epithelial Cell Size', 'Bland Chromatin', 'Bare Nuclei', 'Normal Nucleoli', 'Mitosis','Class']\n",
    "normalizedData = pd.DataFrame(normalizedData, columns=cols)\n",
    "print(normalizedData.head())"
   ]
  },
  {
   "cell_type": "markdown",
   "metadata": {
    "id": "Sb2YjZckaZ2-"
   },
   "source": [
    "### Data preprocessing is done and now you will answer the below questions using the **normalizedData**: "
   ]
  },
  {
   "cell_type": "markdown",
   "metadata": {
    "id": "Cq2ChemrbDz2"
   },
   "source": [
    "### 2. Split the data into test and training data with test size - 30%. Compute the baseline classification accuracy for X_train. (3 marks)"
   ]
  },
  {
   "cell_type": "code",
   "execution_count": 9,
   "metadata": {
    "id": "gOshE9K_UA5S"
   },
   "outputs": [
    {
     "data": {
      "text/plain": [
       "((489, 9), (210, 9), (489,), (210,))"
      ]
     },
     "execution_count": 9,
     "metadata": {},
     "output_type": "execute_result"
    }
   ],
   "source": [
    "# Enter your code here\n",
    "X_train, X_test, y_train, y_test = train_test_split(\n",
    "    normalizedData.drop(['Class'], axis=1),\n",
    "    normalizedData.Class,\n",
    "    test_size=0.3,\n",
    "    random_state=42, # set the random states so that we can reproduce the result\n",
    ")\n",
    "\n",
    "X_train.shape, X_test.shape, y_train.shape, y_test.shape"
   ]
  },
  {
   "cell_type": "markdown",
   "metadata": {
    "id": "J3RUF9RvgA-N"
   },
   "source": [
    "### 3.  Bagging : Build a generic Bagging ensemble and print the accuracy (4 marks)\n",
    "---\n",
    "\n",
    "\n",
    "Hyperparameters:\n",
    "\n",
    "Base estimator = DecisionTreeClassifier\n",
    "\n",
    "n_estimators = 10\n",
    "\n",
    "random_state = 42\n",
    "\n",
    "---\n"
   ]
  },
  {
   "cell_type": "code",
   "execution_count": 10,
   "metadata": {},
   "outputs": [],
   "source": [
    "from sklearn.tree import DecisionTreeClassifier\n",
    "from sklearn.ensemble import BaggingClassifier, RandomForestClassifier, AdaBoostClassifier\n",
    "from sklearn.metrics import accuracy_score"
   ]
  },
  {
   "cell_type": "code",
   "execution_count": 11,
   "metadata": {
    "id": "C78-znrIUDcs"
   },
   "outputs": [
    {
     "name": "stdout",
     "output_type": "stream",
     "text": [
      "Accuracy on train: 0.9959100204498977\n",
      "Accuracy on test : 0.9571428571428572\n"
     ]
    }
   ],
   "source": [
    "# Generic Bagging model\n",
    "# Enter your code here\n",
    "bagging_model = BaggingClassifier(DecisionTreeClassifier(), n_estimators=10, random_state=42)\n",
    "bagging_model.fit(X_train, y_train)\n",
    "y_train_pred = bagging_model.predict(X_train)\n",
    "y_test_pred = bagging_model.predict(X_test)\n",
    "print(\"Accuracy on train: {}\".format(accuracy_score(y_train, y_train_pred)))\n",
    "print(\"Accuracy on test : {}\".format(accuracy_score(y_test, y_test_pred)))"
   ]
  },
  {
   "cell_type": "markdown",
   "metadata": {
    "id": "mlupszlqg6El"
   },
   "source": [
    "### 4. RandomForest : (7 marks)\n",
    "#### a) Build a Random Forest model and print the accuracy (4 marks)\n",
    "---\n",
    "\n",
    "Constructor arguments: \n",
    "\n",
    "\n",
    "n_estimators = 100, max_features = 7 and random_state = 42 \n",
    "\n",
    "\n",
    "---\n",
    "\n",
    "\n"
   ]
  },
  {
   "cell_type": "code",
   "execution_count": 12,
   "metadata": {
    "colab": {
     "base_uri": "https://localhost:8080/"
    },
    "id": "TagawD02hKlF",
    "outputId": "504c5898-3b2c-4e70-c799-ff480464f310"
   },
   "outputs": [
    {
     "name": "stdout",
     "output_type": "stream",
     "text": [
      "Accuracy on train: 1.0\n",
      "Accuracy on test : 0.9619047619047619\n"
     ]
    }
   ],
   "source": [
    "# Random Forest model\n",
    "# Enter your code here\n",
    "rf_model = RandomForestClassifier(n_estimators=100, max_features=7, random_state=42)\n",
    "rf_model.fit(X_train, y_train)\n",
    "y_train_pred = rf_model.predict(X_train)\n",
    "y_test_pred = rf_model.predict(X_test)\n",
    "print(\"Accuracy on train: {}\".format(accuracy_score(y_train, y_train_pred)))\n",
    "print(\"Accuracy on test : {}\".format(accuracy_score(y_test, y_test_pred)))"
   ]
  },
  {
   "cell_type": "markdown",
   "metadata": {
    "id": "48iH9eV8xkbE"
   },
   "source": [
    "####  b) Calculate the top 3 important features for the above **RandomForest** model and print them (3 marks)"
   ]
  },
  {
   "cell_type": "code",
   "execution_count": 13,
   "metadata": {
    "id": "M469DqsQxlFN"
   },
   "outputs": [
    {
     "name": "stdout",
     "output_type": "stream",
     "text": [
      "Top 3 important features:\n"
     ]
    },
    {
     "data": {
      "text/plain": [
       "Uniformity of Cell Size     0.396144\n",
       "Uniformity of Cell Shape    0.249673\n",
       "Bland Chromatin             0.176869\n",
       "dtype: float64"
      ]
     },
     "execution_count": 13,
     "metadata": {},
     "output_type": "execute_result"
    }
   ],
   "source": [
    "# Top 3 features for RandomForest\n",
    "# Enter your code here\n",
    "feature_importance = pd.Series(index=X_train.columns, data=rf_model.feature_importances_).sort_values(ascending=False)\n",
    "print(\"Top 3 important features:\")\n",
    "feature_importance.head(3)"
   ]
  },
  {
   "cell_type": "markdown",
   "metadata": {
    "id": "rnrkSasYh6gF"
   },
   "source": [
    "### 5. Boosting: (7 marks)\n",
    "#### a) Build an AdaBoost model with training data and print the accuracy (4 marks)\n",
    "---\n",
    "\n",
    "Hyperparameters:\n",
    "\n",
    "Base estimator = DecisionTreeClassifier, max_depth = 4\n",
    "\n",
    "n_estimators = 200\n",
    "\n",
    "random_state = 42\n",
    "\n",
    "learning_rate = 0.05\n",
    "\n",
    "\n",
    "---\n",
    "\n",
    "\n",
    "\n",
    "\n",
    "\n",
    "\n",
    "\n"
   ]
  },
  {
   "cell_type": "code",
   "execution_count": 14,
   "metadata": {
    "id": "DQIzaUjWUHv7"
   },
   "outputs": [
    {
     "name": "stdout",
     "output_type": "stream",
     "text": [
      "Accuracy on train: 1.0\n",
      "Accuracy on test : 0.9619047619047619\n"
     ]
    }
   ],
   "source": [
    "# AdaBoost Classification\n",
    "# Enter your code here\n",
    "adaboost = AdaBoostClassifier(\n",
    "    base_estimator=DecisionTreeClassifier(max_depth=4), \n",
    "    n_estimators=200, \n",
    "    random_state=42, \n",
    "    learning_rate=0.05\n",
    ")\n",
    "\n",
    "adaboost.fit(X_train, y_train)\n",
    "y_train_pred = adaboost.predict(X_train)\n",
    "y_test_pred = adaboost.predict(X_test)\n",
    "print(\"Accuracy on train: {}\".format(accuracy_score(y_train, y_train_pred)))\n",
    "print(\"Accuracy on test : {}\".format(accuracy_score(y_test, y_test_pred)))"
   ]
  },
  {
   "cell_type": "markdown",
   "metadata": {
    "id": "usBQDazfw2L1"
   },
   "source": [
    "#### b) Calculate the top 3 important features for the above **AdaBoost** model and print them (3 marks)"
   ]
  },
  {
   "cell_type": "code",
   "execution_count": 15,
   "metadata": {
    "id": "jbEUjwQRw3rW"
   },
   "outputs": [
    {
     "name": "stdout",
     "output_type": "stream",
     "text": [
      "Top 3 important features:\n"
     ]
    },
    {
     "data": {
      "text/plain": [
       "Clump Thickness    0.194416\n",
       "Bare Nuclei        0.190325\n",
       "Bland Chromatin    0.142676\n",
       "dtype: float64"
      ]
     },
     "execution_count": 15,
     "metadata": {},
     "output_type": "execute_result"
    }
   ],
   "source": [
    "# Top 3 features for AdaBoost\n",
    "# Enter your code here\n",
    "\n",
    "feature_importance = pd.Series(index=X_train.columns, data=adaboost.feature_importances_).sort_values(ascending=False)\n",
    "print(\"Top 3 important features:\")\n",
    "feature_importance.head(3)"
   ]
  },
  {
   "cell_type": "markdown",
   "metadata": {
    "id": "zMpdvP7ZjAOt"
   },
   "source": [
    "### 6. Voting : Using a voting classifier, build an ensemble of RandomForestClassifier, DecisionTreeClassifier, Support Vector Machine and Logistic Regression. (7 marks)\n",
    "\n",
    "\n",
    "---\n",
    "\n",
    "\n",
    "Use max_depth = 4, n_estimators = 200, voting = soft"
   ]
  },
  {
   "cell_type": "code",
   "execution_count": 16,
   "metadata": {},
   "outputs": [],
   "source": [
    "from sklearn.linear_model import LogisticRegression\n",
    "from sklearn.svm import SVC\n",
    "from sklearn.ensemble import VotingClassifier"
   ]
  },
  {
   "cell_type": "code",
   "execution_count": 17,
   "metadata": {
    "id": "3M3ZIcrqUKjK"
   },
   "outputs": [
    {
     "name": "stdout",
     "output_type": "stream",
     "text": [
      "Accuracy on train: 0.9795501022494888\n",
      "Accuracy on test : 0.9666666666666667\n"
     ]
    }
   ],
   "source": [
    "# Voting Ensemble for Classification\n",
    "# Enter your code here\n",
    "voting_model = VotingClassifier(\n",
    "    estimators=[('rf', RandomForestClassifier(max_depth=4, n_estimators=200)),\n",
    "                ('dt', DecisionTreeClassifier(max_depth=4)),\n",
    "                ('svm', SVC(probability=True)),\n",
    "                ('lr', LogisticRegression())], \n",
    "    voting='soft'\n",
    ")\n",
    "\n",
    "voting_model.fit(X_train, y_train)\n",
    "y_train_pred = voting_model.predict(X_train)\n",
    "y_test_pred = voting_model.predict(X_test)\n",
    "print(\"Accuracy on train: {}\".format(accuracy_score(y_train, y_train_pred)))\n",
    "print(\"Accuracy on test : {}\".format(accuracy_score(y_test, y_test_pred)))"
   ]
  },
  {
   "cell_type": "markdown",
   "metadata": {
    "id": "Wj2CVbBYVTun"
   },
   "source": [
    "### 7. Mention the best model among the above 4 models and its accuracy (1 mark)"
   ]
  },
  {
   "cell_type": "code",
   "execution_count": 20,
   "metadata": {},
   "outputs": [
    {
     "name": "stdout",
     "output_type": "stream",
     "text": [
      "Among the models, the voting classifier reach a highest testing accuracy of 0.96667\n"
     ]
    }
   ],
   "source": [
    "# Write your answer here\n",
    "print(\"Among the models, the voting classifier reach a highest testing accuracy of 0.96667\")"
   ]
  },
  {
   "cell_type": "code",
   "execution_count": null,
   "metadata": {},
   "outputs": [],
   "source": []
  }
 ],
 "metadata": {
  "colab": {
   "collapsed_sections": [
    "7DvQpJcMXRd0",
    "UDtpJLrCXdj-",
    "uaUqMhEPYqSF",
    "TC9xxX-MaJiJ"
   ],
   "name": "Homework 7.ipynb",
   "provenance": []
  },
  "kernelspec": {
   "display_name": "Python 3",
   "language": "python",
   "name": "python3"
  },
  "language_info": {
   "codemirror_mode": {
    "name": "ipython",
    "version": 3
   },
   "file_extension": ".py",
   "mimetype": "text/x-python",
   "name": "python",
   "nbconvert_exporter": "python",
   "pygments_lexer": "ipython3",
   "version": "3.5.4"
  }
 },
 "nbformat": 4,
 "nbformat_minor": 1
}
